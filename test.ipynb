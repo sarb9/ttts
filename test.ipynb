{
 "cells": [
  {
   "cell_type": "code",
   "execution_count": 1,
   "metadata": {},
   "outputs": [],
   "source": [
    "from experiment.experiment import Experiment\n",
    "from envs.bandits import BanditFactory\n",
    "from algorithms.algorithms import AlgorithmFactory"
   ]
  },
  {
   "cell_type": "code",
   "execution_count": 2,
   "metadata": {},
   "outputs": [],
   "source": [
    "from algorithms.uniform import Uniform\n",
    "from algorithms.ecolog import ECOLOG\n",
    "from algorithms.max_uncertainty import MaxUncertainty\n",
    "from algorithms.lucb import LUCB\n",
    "from algorithms.ecots import EcoTS\n",
    "from algorithms.toptwots import TopTwoTS\n",
    "\n",
    "from envs.guassian_bandit import GuassianBandit\n",
    "from envs.adv4_bandit import Adv4Bandit\n",
    "from envs.adv_ttts import AdvTTTS"
   ]
  },
  {
   "cell_type": "code",
   "execution_count": 3,
   "metadata": {},
   "outputs": [],
   "source": [
    "uniform_factory = AlgorithmFactory(Uniform, \"uniform\", [])\n",
    "# ecots_factory_1 = AlgorithmFactory(EcoTS, \"ecots1\", [\"param_norm_ub\"], inflation=1)\n",
    "ecots_factory_001 = AlgorithmFactory(\n",
    "    EcoTS, \"ecots001\", [\"param_norm_ub\"], inflation=0.01\n",
    ")\n",
    "toptwots_factory_01 = AlgorithmFactory(\n",
    "    TopTwoTS, \"toptwots\", [\"param_norm_ub\"], inflation=0.1\n",
    ")\n",
    "maxuncertainty_factory = AlgorithmFactory(\n",
    "    MaxUncertainty, \"max_uncertainty\", [\"param_norm_ub\"]\n",
    ")\n",
    "\n",
    "guassian_factory = BanditFactory(\n",
    "    GuassianBandit,\n",
    "    \"guassian\",\n",
    "    n_arms=20,\n",
    "    n_contexts=20,\n",
    "    d=15,\n",
    "    fit_into_unit_ball=True,\n",
    ")\n",
    "ttts_breaker_factory = BanditFactory(\n",
    "    AdvTTTS,\n",
    "    \"TTSBreaker\",\n",
    "    n_arms=3,\n",
    "    n_contexts=1,\n",
    "    d=2,\n",
    ")\n",
    "adv_factory = BanditFactory(\n",
    "    Adv4Bandit,\n",
    "    \"needle\",\n",
    "    n_arms=70,\n",
    "    n_contexts=400,\n",
    "    d=30,\n",
    "    fit_into_unit_ball=True,\n",
    ")\n",
    "experiment = Experiment(\n",
    "    [\n",
    "        ttts_breaker_factory,\n",
    "        # ttts_breaker_factory,\n",
    "        # adv_factory,\n",
    "    ],\n",
    "    [\n",
    "        uniform_factory,\n",
    "        maxuncertainty_factory,\n",
    "        # ecots_factory_001,\n",
    "        # toptwots_factory_01,\n",
    "    ],\n",
    ")"
   ]
  },
  {
   "cell_type": "code",
   "execution_count": 4,
   "metadata": {},
   "outputs": [],
   "source": [
    "from experiment.simple_regret import SimpleRegret\n",
    "from experiment.action_tracker import ActionTracker\n",
    "\n",
    "simple_regret_callback = SimpleRegret(interval=100)\n",
    "action_tracker_callback = ActionTracker()\n",
    "\n",
    "experiment.add_callback(simple_regret_callback)\n",
    "experiment.add_callback(action_tracker_callback)"
   ]
  },
  {
   "cell_type": "code",
   "execution_count": 5,
   "metadata": {},
   "outputs": [
    {
     "name": "stdout",
     "output_type": "stream",
     "text": [
      "[ 0.5 -1. ]\n",
      "[[0.14262927 0.10737073]\n",
      " [0.10737073 0.14262927]]\n",
      "===================================\n",
      "> \u001b[0;32m/Users/sarb/Desktop/ttts/algorithms/max_uncertainty.py\u001b[0m(35)\u001b[0;36mchoose\u001b[0;34m()\u001b[0m\n",
      "\u001b[0;32m     31 \u001b[0;31m            \u001b[0mprint\u001b[0m\u001b[0;34m(\u001b[0m\u001b[0;34m\"===================================\"\u001b[0m\u001b[0;34m)\u001b[0m\u001b[0;34m\u001b[0m\u001b[0;34m\u001b[0m\u001b[0m\n",
      "\u001b[0m\u001b[0;32m     32 \u001b[0;31m            \u001b[0;32mimport\u001b[0m \u001b[0mpdb\u001b[0m\u001b[0;34m\u001b[0m\u001b[0;34m\u001b[0m\u001b[0m\n",
      "\u001b[0m\u001b[0;32m     33 \u001b[0;31m\u001b[0;34m\u001b[0m\u001b[0m\n",
      "\u001b[0m\u001b[0;32m     34 \u001b[0;31m            \u001b[0mpdb\u001b[0m\u001b[0;34m.\u001b[0m\u001b[0mset_trace\u001b[0m\u001b[0;34m(\u001b[0m\u001b[0;34m)\u001b[0m\u001b[0;34m\u001b[0m\u001b[0;34m\u001b[0m\u001b[0m\n",
      "\u001b[0m\u001b[0;32m---> 35 \u001b[0;31m        \u001b[0;32mreturn\u001b[0m \u001b[0marm1\u001b[0m\u001b[0;34m,\u001b[0m \u001b[0marm2\u001b[0m\u001b[0;34m\u001b[0m\u001b[0;34m\u001b[0m\u001b[0m\n",
      "\u001b[0m\n"
     ]
    }
   ],
   "source": [
    "experiment.interact(n_steps=500, n_runs=50, log_progress=True)"
   ]
  },
  {
   "cell_type": "code",
   "execution_count": null,
   "metadata": {},
   "outputs": [],
   "source": [
    "import numpy as np\n",
    "\n",
    "A = np.array([[0.14262927, 0.10737073], [0.10737073, 0.14262927]])\n",
    "x = [0.5, -1]\n",
    "y = [1, -1]\n",
    "b = np.sqrt(np.dot(x, np.dot(A, x)))"
   ]
  }
 ],
 "metadata": {
  "kernelspec": {
   "display_name": "ttts-8x3AA4J6",
   "language": "python",
   "name": "python3"
  },
  "language_info": {
   "codemirror_mode": {
    "name": "ipython",
    "version": 3
   },
   "file_extension": ".py",
   "mimetype": "text/x-python",
   "name": "python",
   "nbconvert_exporter": "python",
   "pygments_lexer": "ipython3",
   "version": "3.11.4"
  },
  "orig_nbformat": 4
 },
 "nbformat": 4,
 "nbformat_minor": 2
}
