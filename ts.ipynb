{
 "cells": [
  {
   "cell_type": "code",
   "execution_count": 1,
   "metadata": {},
   "outputs": [],
   "source": [
    "from experiment.experiment import Experiment\n",
    "from envs.bandits import BanditFactory\n",
    "from algorithms.algorithms import AlgorithmFactory"
   ]
  },
  {
   "cell_type": "code",
   "execution_count": 2,
   "metadata": {},
   "outputs": [],
   "source": [
    "from algorithms.uniform import Uniform\n",
    "from algorithms.ecolog import ECOLOG\n",
    "from algorithms.max_uncertainty import MaxUncertainty\n",
    "from algorithms.lucb import LUCB\n",
    "from algorithms.ecots import EcoTS\n",
    "from algorithms.toptwots import TopTwoTS\n",
    "\n",
    "from envs.guassian_bandit import GuassianBandit\n",
    "from envs.adv4_bandit import Adv4Bandit\n",
    "from envs.adv_ttts import AdvTTTS"
   ]
  },
  {
   "cell_type": "code",
   "execution_count": 3,
   "metadata": {},
   "outputs": [],
   "source": [
    "uniform_factory = AlgorithmFactory(Uniform, \"uniform\", [])\n",
    "# ecots_factory_1 = AlgorithmFactory(EcoTS, \"ecots1\", [\"param_norm_ub\"], inflation=1)\n",
    "ecots_factory_001 = AlgorithmFactory(\n",
    "    EcoTS, \"ecots001\", [\"param_norm_ub\"], inflation=0.01\n",
    ")\n",
    "toptwots_factory_01 = AlgorithmFactory(\n",
    "    TopTwoTS, \"toptwots\", [\"param_norm_ub\"], inflation=0.1\n",
    ")\n",
    "maxuncertainty_factory = AlgorithmFactory(\n",
    "    MaxUncertainty, \"max_uncertainty\", [\"param_norm_ub\"]\n",
    ")\n",
    "\n",
    "guassian_factory = BanditFactory(\n",
    "    GuassianBandit,\n",
    "    \"guassian\",\n",
    "    n_arms=20,\n",
    "    n_contexts=20,\n",
    "    d=15,\n",
    "    fit_into_unit_ball=True,\n",
    ")\n",
    "ttts_breaker_factory = BanditFactory(\n",
    "    AdvTTTS,\n",
    "    \"TTSBreaker\",\n",
    "    n_arms=3,\n",
    "    n_contexts=1,\n",
    "    d=2,\n",
    ")\n",
    "adv_factory = BanditFactory(\n",
    "    Adv4Bandit,\n",
    "    \"needle\",\n",
    "    n_arms=70,\n",
    "    n_contexts=400,\n",
    "    d=30,\n",
    "    fit_into_unit_ball=True,\n",
    ")\n",
    "experiment = Experiment(\n",
    "    [\n",
    "        ttts_breaker_factory,\n",
    "        # ttts_breaker_factory,\n",
    "        # adv_factory,\n",
    "    ],\n",
    "    [\n",
    "        # uniform_factory,\n",
    "        maxuncertainty_factory,\n",
    "        # ecots_factory_001,\n",
    "        toptwots_factory_01,\n",
    "    ],\n",
    ")"
   ]
  },
  {
   "cell_type": "code",
   "execution_count": 4,
   "metadata": {},
   "outputs": [],
   "source": [
    "from experiment.simple_regret import SimpleRegret\n",
    "from experiment.action_tracker import ActionTracker\n",
    "\n",
    "simple_regret_callback = SimpleRegret(interval=100)\n",
    "action_tracker_callback = ActionTracker()\n",
    "\n",
    "experiment.add_callback(simple_regret_callback)\n",
    "experiment.add_callback(action_tracker_callback)"
   ]
  },
  {
   "cell_type": "code",
   "execution_count": 5,
   "metadata": {},
   "outputs": [
    {
     "name": "stdout",
     "output_type": "stream",
     "text": [
      "Finished run 1 of 100 for TTSBreaker in 1.0724728107452393 seconds\n",
      "Finished run 2 of 100 for TTSBreaker in 2.1218650341033936 seconds\n",
      "Finished run 3 of 100 for TTSBreaker in 3.1642649173736572 seconds\n",
      "Finished run 4 of 100 for TTSBreaker in 4.170773983001709 seconds\n",
      "Finished run 5 of 100 for TTSBreaker in 5.18540096282959 seconds\n",
      "Finished run 6 of 100 for TTSBreaker in 6.2187910079956055 seconds\n",
      "Finished run 7 of 100 for TTSBreaker in 7.2127039432525635 seconds\n",
      "Finished run 8 of 100 for TTSBreaker in 8.2012197971344 seconds\n",
      "Finished run 9 of 100 for TTSBreaker in 9.18461298942566 seconds\n",
      "Finished run 10 of 100 for TTSBreaker in 10.197420120239258 seconds\n",
      "Finished run 11 of 100 for TTSBreaker in 11.205757856369019 seconds\n",
      "Finished run 12 of 100 for TTSBreaker in 12.197091817855835 seconds\n",
      "Finished run 13 of 100 for TTSBreaker in 13.191040992736816 seconds\n",
      "Finished run 14 of 100 for TTSBreaker in 14.192040920257568 seconds\n",
      "Finished run 15 of 100 for TTSBreaker in 15.182584762573242 seconds\n",
      "Finished run 16 of 100 for TTSBreaker in 16.154971837997437 seconds\n",
      "Finished run 17 of 100 for TTSBreaker in 17.135261058807373 seconds\n",
      "Finished run 18 of 100 for TTSBreaker in 18.117411851882935 seconds\n"
     ]
    }
   ],
   "source": [
    "experiment.interact(n_steps=500, n_runs=40, log_progress=True)"
   ]
  },
  {
   "cell_type": "code",
   "execution_count": null,
   "metadata": {},
   "outputs": [
    {
     "name": "stdout",
     "output_type": "stream",
     "text": [
      "0.26630031449474484 0.22997349847319365\n"
     ]
    }
   ],
   "source": [
    "import numpy as np\n",
    "\n",
    "A = np.array([[0.14262927, 0.10737073], [0.10737073, 0.14262927]])\n",
    "x = [0.5, -1]\n",
    "y = [1, -1]\n",
    "b = np.sqrt(np.dot(x, np.dot(A, x)))\n",
    "c = np.sqrt(np.dot(x, np.dot(A, y)))\n",
    "print(b, c)"
   ]
  }
 ],
 "metadata": {
  "kernelspec": {
   "display_name": "ttts-8x3AA4J6",
   "language": "python",
   "name": "python3"
  },
  "language_info": {
   "codemirror_mode": {
    "name": "ipython",
    "version": 3
   },
   "file_extension": ".py",
   "mimetype": "text/x-python",
   "name": "python",
   "nbconvert_exporter": "python",
   "pygments_lexer": "ipython3",
   "version": "3.11.4"
  },
  "orig_nbformat": 4
 },
 "nbformat": 4,
 "nbformat_minor": 2
}
